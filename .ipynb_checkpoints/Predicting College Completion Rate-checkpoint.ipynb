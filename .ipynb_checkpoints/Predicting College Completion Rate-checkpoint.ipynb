{
 "cells": [
  {
   "cell_type": "code",
   "execution_count": 1,
   "metadata": {},
   "outputs": [
    {
     "name": "stderr",
     "output_type": "stream",
     "text": [
      "Using TensorFlow backend.\n"
     ]
    }
   ],
   "source": [
    "from sklearn.model_selection import train_test_split, GridSearchCV\n",
    "from sklearn.linear_model import Ridge, Lasso, LassoCV, ElasticNet\n",
    "from sklearn.feature_selection import RFE, SelectKBest, SelectFromModel\n",
    "from sklearn.preprocessing import Binarizer, Imputer, OneHotEncoder, LabelEncoder, StandardScaler\n",
    "from sklearn.pipeline import Pipeline, FeatureUnion, make_pipeline\n",
    "from sklearn.svm import LinearSVR, SVR\n",
    "from sklearn.ensemble import AdaBoostRegressor, GradientBoostingRegressor\n",
    "from sklearn.tree import DecisionTreeRegressor\n",
    "from sklearn.ensemble import RandomForestRegressor\n",
    "\n",
    "from keras.models import Sequential\n",
    "from keras.layers import Dense, Dropout\n",
    "from keras.utils import to_categorical\n",
    "\n",
    "import requests\n",
    "import json\n",
    "import pandas as pd\n",
    "import numpy as np\n",
    "import matplotlib.pyplot as plt\n",
    "import seaborn as sns\n",
    "%matplotlib inline"
   ]
  },
  {
   "cell_type": "code",
   "execution_count": null,
   "metadata": {
    "collapsed": true
   },
   "outputs": [],
   "source": []
  },
  {
   "cell_type": "markdown",
   "metadata": {},
   "source": [
    "# Regression Model to Predict College Completion Rates using College Scoreboard API"
   ]
  },
  {
   "cell_type": "markdown",
   "metadata": {},
   "source": [
    "The college scoreboard API is a collection of higher education data from the government that has a ton of data that spans a number of years and categories. The relationships to analyze are almost limitless. \n",
    "\n",
    "The variable that I am interested in, my target variable, is the completion rate (or the percentage that students complete their degree) for given colleges. To investigate this variable, I built a regression model that aims to predict the completion percentage for a given college. In a nutshell, I tried a few different variations of a traditional machine learning model to find the best one, and then I will compare it to a neural network model. See the code below for how exactly I went about doing that.\n",
    "\n",
    "All data is from 2015, which is the most recent year that all data needed for model was available."
   ]
  },
  {
   "cell_type": "markdown",
   "metadata": {},
   "source": [
    "#### Pull in data from the API"
   ]
  },
  {
   "cell_type": "code",
   "execution_count": null,
   "metadata": {},
   "outputs": [],
   "source": [
    "# Setup key and base url\n",
    "key = 'sVABViQZXYnFdOsPCyZr2OGojMkio6n9CgBFwSg2'\n",
    "url_base = 'https://api.data.gov/ed/collegescorecard/v1/schools'\n",
    "\n",
    "# Make function that will build a url given field and criteria names\n",
    "def make_url(fields, criteria, page=0, per_page=20):\n",
    "    crit = '&'.join(criteria) if len(criteria)>0 else ''\n",
    "    fiel = ','.join(fields)\n",
    "    url = url_base+'?api_key='+key+'&fields='+fiel+'&'+crit\n",
    "    url += '&_page='+str(page)\n",
    "    url += '&_per_page='+str(per_page)\n",
    "    return url\n",
    "\n",
    "# define the fields and critera that will go into the url request\n",
    "fields = ['school.name', \n",
    "          'school.ownership', \n",
    "          'school.state_fips',\n",
    "          'school.region_id',\n",
    "          'school.tuition_revenue_per_fte',\n",
    "          'school.instructional_expenditure_per_fte',\n",
    "          'school.faculty_salary',\n",
    "          'school.ft_faculty_rate',\n",
    "          '2015.earnings.10_yrs_after_entry.not_working_not_enrolled.overall', \n",
    "          '2015.completion.completion_rate_4yr_150nt',\n",
    "          '2015.admissions.admission_rate.overall',\n",
    "          '2015.admissions.sat_scores.average.overall',\n",
    "          '2015.admissions.act_scores.midpoint.cumulative',\n",
    "          '2015.aid.pell_grant_rate',\n",
    "          '2015.aid.federal_loan_rate',\n",
    "          '2015.aid.median_debt.completers.overall',\n",
    "          '2015.student.size',\n",
    "          '2015.cost.attendance.academic_year',\n",
    "          '2015.student.FAFSA_applications',\n",
    "          '2015.student.parents_education_level',\n",
    "          '2015.student.family_income.overall']\n",
    "criteria = ['school.main_campus=1',\n",
    "            'school.degrees_awarded.predominant=3',\n",
    "            'school.operating=1',\n",
    "            'school.online_only=0',\n",
    "            'school.institutional_characteristics.level=1']\n",
    "\n",
    "# Now get the data one page at a time\n",
    "more = True\n",
    "page = 0\n",
    "per_page = 100\n",
    "data = []\n",
    "\n",
    "while more:\n",
    "    print('Page ', page)\n",
    "    url = make_url(fields, criteria, page, per_page)\n",
    "    page += 1\n",
    "    result = requests.get(url)\n",
    "    # If the request was unsuccessful break out of the loop\n",
    "    if not result.ok:\n",
    "        more = False\n",
    "        break\n",
    "    results = result.json()\n",
    "    new_data = results['results']\n",
    "    data += new_data  # This is where I build up the data\n",
    "    meta = results['metadata']\n",
    "    print(meta)\n",
    "    if len(results)==0:\n",
    "        print(result)\n",
    "        more = False"
   ]
  },
  {
   "cell_type": "code",
   "execution_count": null,
   "metadata": {
    "collapsed": true
   },
   "outputs": [],
   "source": [
    "# Create dataframe from API data\n",
    "df_api = pd.DataFrame(data)"
   ]
  },
  {
   "cell_type": "code",
   "execution_count": null,
   "metadata": {},
   "outputs": [],
   "source": [
    "df_api.columns"
   ]
  },
  {
   "cell_type": "code",
   "execution_count": null,
   "metadata": {
    "collapsed": true
   },
   "outputs": [],
   "source": [
    "# Cache data to csv file to not have to ping the API\n",
    "df_api.to_csv('colleges_eric.csv', index=False)"
   ]
  },
  {
   "cell_type": "code",
   "execution_count": 2,
   "metadata": {
    "collapsed": true
   },
   "outputs": [],
   "source": [
    "df = pd.read_csv('colleges_eric.csv')"
   ]
  },
  {
   "cell_type": "code",
   "execution_count": 3,
   "metadata": {
    "collapsed": true
   },
   "outputs": [],
   "source": [
    "# Drop earnings column as it was all nulls\n",
    "df.drop('2015.earnings.10_yrs_after_entry.not_working_not_enrolled.overall', axis=1, inplace=True)"
   ]
  },
  {
   "cell_type": "code",
   "execution_count": 4,
   "metadata": {},
   "outputs": [
    {
     "name": "stdout",
     "output_type": "stream",
     "text": [
      "<class 'pandas.core.frame.DataFrame'>\n",
      "RangeIndex: 1818 entries, 0 to 1817\n",
      "Data columns (total 20 columns):\n",
      "2015.admissions.act_scores.midpoint.cumulative    1152 non-null float64\n",
      "2015.admissions.admission_rate.overall            1554 non-null float64\n",
      "2015.admissions.sat_scores.average.overall        1187 non-null float64\n",
      "2015.aid.federal_loan_rate                        1816 non-null float64\n",
      "2015.aid.median_debt.completers.overall           1663 non-null float64\n",
      "2015.aid.pell_grant_rate                          1816 non-null float64\n",
      "2015.completion.completion_rate_4yr_150nt         1716 non-null float64\n",
      "2015.cost.attendance.academic_year                1716 non-null float64\n",
      "2015.student.FAFSA_applications                   1795 non-null float64\n",
      "2015.student.family_income.overall                1795 non-null float64\n",
      "2015.student.parents_education_level              1613 non-null float64\n",
      "2015.student.size                                 1815 non-null float64\n",
      "school.faculty_salary                             1801 non-null float64\n",
      "school.ft_faculty_rate                            1732 non-null float64\n",
      "school.instructional_expenditure_per_fte          1818 non-null int64\n",
      "school.name                                       1818 non-null object\n",
      "school.ownership                                  1818 non-null int64\n",
      "school.region_id                                  1818 non-null int64\n",
      "school.state_fips                                 1818 non-null int64\n",
      "school.tuition_revenue_per_fte                    1818 non-null int64\n",
      "dtypes: float64(14), int64(5), object(1)\n",
      "memory usage: 284.1+ KB\n"
     ]
    }
   ],
   "source": [
    "df.info()"
   ]
  },
  {
   "cell_type": "code",
   "execution_count": 5,
   "metadata": {
    "collapsed": true
   },
   "outputs": [],
   "source": [
    "# Drop all rows with nulls\n",
    "df.dropna(inplace=True)"
   ]
  },
  {
   "cell_type": "code",
   "execution_count": 6,
   "metadata": {},
   "outputs": [
    {
     "name": "stdout",
     "output_type": "stream",
     "text": [
      "<class 'pandas.core.frame.DataFrame'>\n",
      "Int64Index: 1102 entries, 4 to 1814\n",
      "Data columns (total 20 columns):\n",
      "2015.admissions.act_scores.midpoint.cumulative    1102 non-null float64\n",
      "2015.admissions.admission_rate.overall            1102 non-null float64\n",
      "2015.admissions.sat_scores.average.overall        1102 non-null float64\n",
      "2015.aid.federal_loan_rate                        1102 non-null float64\n",
      "2015.aid.median_debt.completers.overall           1102 non-null float64\n",
      "2015.aid.pell_grant_rate                          1102 non-null float64\n",
      "2015.completion.completion_rate_4yr_150nt         1102 non-null float64\n",
      "2015.cost.attendance.academic_year                1102 non-null float64\n",
      "2015.student.FAFSA_applications                   1102 non-null float64\n",
      "2015.student.family_income.overall                1102 non-null float64\n",
      "2015.student.parents_education_level              1102 non-null float64\n",
      "2015.student.size                                 1102 non-null float64\n",
      "school.faculty_salary                             1102 non-null float64\n",
      "school.ft_faculty_rate                            1102 non-null float64\n",
      "school.instructional_expenditure_per_fte          1102 non-null int64\n",
      "school.name                                       1102 non-null object\n",
      "school.ownership                                  1102 non-null int64\n",
      "school.region_id                                  1102 non-null int64\n",
      "school.state_fips                                 1102 non-null int64\n",
      "school.tuition_revenue_per_fte                    1102 non-null int64\n",
      "dtypes: float64(14), int64(5), object(1)\n",
      "memory usage: 180.8+ KB\n"
     ]
    }
   ],
   "source": [
    "# Now left with 1102 rows, which will be the data set.\n",
    "df.info()"
   ]
  },
  {
   "cell_type": "code",
   "execution_count": 7,
   "metadata": {
    "collapsed": true
   },
   "outputs": [],
   "source": [
    "# Rename columns so they're a little more manageable\n",
    "\n",
    "df.rename(columns={'2015.admissions.act_scores.midpoint.cumulative': 'act_scores_midpoint',\n",
    "       '2015.admissions.admission_rate.overall':'admission_rate',\n",
    "       '2015.admissions.sat_scores.average.overall': 'sat_scores_ave',\n",
    "       '2015.aid.federal_loan_rate': 'fed_loan_rate', '2015.aid.median_debt.completers.overall': 'median_debt_completers',\n",
    "       '2015.aid.pell_grant_rate': 'pell_grant_rate', '2015.completion.completion_rate_4yr_150nt': 'completion_rate',\n",
    "       '2015.cost.attendance.academic_year': 'cost_of_attendance', '2015.student.FAFSA_applications': 'FAFSA_apps',\n",
    "       '2015.student.family_income.overall': 'family_income',\n",
    "       '2015.student.parents_education_level': 'parents_ed_level', '2015.student.size': 'student_size',\n",
    "       'school.faculty_salary': 'fac_sal', 'school.ft_faculty_rate': 'ft_fac_rate',\n",
    "       'school.instructional_expenditure_per_fte': 'instruc_expen_per_fte'\n",
    "       }, inplace=True)"
   ]
  },
  {
   "cell_type": "code",
   "execution_count": 8,
   "metadata": {},
   "outputs": [
    {
     "data": {
      "text/html": [
       "<div>\n",
       "<style>\n",
       "    .dataframe thead tr:only-child th {\n",
       "        text-align: right;\n",
       "    }\n",
       "\n",
       "    .dataframe thead th {\n",
       "        text-align: left;\n",
       "    }\n",
       "\n",
       "    .dataframe tbody tr th {\n",
       "        vertical-align: top;\n",
       "    }\n",
       "</style>\n",
       "<table border=\"1\" class=\"dataframe\">\n",
       "  <thead>\n",
       "    <tr style=\"text-align: right;\">\n",
       "      <th></th>\n",
       "      <th>act_scores_midpoint</th>\n",
       "      <th>admission_rate</th>\n",
       "      <th>sat_scores_ave</th>\n",
       "      <th>fed_loan_rate</th>\n",
       "      <th>median_debt_completers</th>\n",
       "      <th>pell_grant_rate</th>\n",
       "      <th>completion_rate</th>\n",
       "      <th>cost_of_attendance</th>\n",
       "      <th>FAFSA_apps</th>\n",
       "      <th>family_income</th>\n",
       "      <th>parents_ed_level</th>\n",
       "      <th>student_size</th>\n",
       "      <th>fac_sal</th>\n",
       "      <th>ft_fac_rate</th>\n",
       "      <th>instruc_expen_per_fte</th>\n",
       "      <th>school.ownership</th>\n",
       "      <th>school.region_id</th>\n",
       "      <th>school.state_fips</th>\n",
       "      <th>school.tuition_revenue_per_fte</th>\n",
       "    </tr>\n",
       "  </thead>\n",
       "  <tbody>\n",
       "    <tr>\n",
       "      <th>count</th>\n",
       "      <td>1102.000000</td>\n",
       "      <td>1102.000000</td>\n",
       "      <td>1102.000000</td>\n",
       "      <td>1102.000000</td>\n",
       "      <td>1102.000000</td>\n",
       "      <td>1102.000000</td>\n",
       "      <td>1102.000000</td>\n",
       "      <td>1102.000000</td>\n",
       "      <td>1102.000000</td>\n",
       "      <td>1102.000000</td>\n",
       "      <td>1102.000000</td>\n",
       "      <td>1102.000000</td>\n",
       "      <td>1102.000000</td>\n",
       "      <td>1102.000000</td>\n",
       "      <td>1102.000000</td>\n",
       "      <td>1102.000000</td>\n",
       "      <td>1102.000000</td>\n",
       "      <td>1102.000000</td>\n",
       "      <td>1102.000000</td>\n",
       "    </tr>\n",
       "    <tr>\n",
       "      <th>mean</th>\n",
       "      <td>23.301270</td>\n",
       "      <td>0.656997</td>\n",
       "      <td>1062.179673</td>\n",
       "      <td>0.589980</td>\n",
       "      <td>23747.310799</td>\n",
       "      <td>0.361953</td>\n",
       "      <td>0.552293</td>\n",
       "      <td>34008.384755</td>\n",
       "      <td>2534.943739</td>\n",
       "      <td>2534.943739</td>\n",
       "      <td>2311.059891</td>\n",
       "      <td>6051.648820</td>\n",
       "      <td>7797.700544</td>\n",
       "      <td>0.701789</td>\n",
       "      <td>10853.942831</td>\n",
       "      <td>1.618875</td>\n",
       "      <td>4.227768</td>\n",
       "      <td>30.072595</td>\n",
       "      <td>13039.319419</td>\n",
       "    </tr>\n",
       "    <tr>\n",
       "      <th>std</th>\n",
       "      <td>3.471694</td>\n",
       "      <td>0.190498</td>\n",
       "      <td>134.410289</td>\n",
       "      <td>0.163591</td>\n",
       "      <td>4221.246579</td>\n",
       "      <td>0.144825</td>\n",
       "      <td>0.176481</td>\n",
       "      <td>13629.507747</td>\n",
       "      <td>3215.893729</td>\n",
       "      <td>3215.893729</td>\n",
       "      <td>2903.823065</td>\n",
       "      <td>7778.496773</td>\n",
       "      <td>2239.598200</td>\n",
       "      <td>0.234521</td>\n",
       "      <td>9115.491018</td>\n",
       "      <td>0.496973</td>\n",
       "      <td>1.932050</td>\n",
       "      <td>14.966029</td>\n",
       "      <td>6772.819001</td>\n",
       "    </tr>\n",
       "    <tr>\n",
       "      <th>min</th>\n",
       "      <td>14.000000</td>\n",
       "      <td>0.050400</td>\n",
       "      <td>708.000000</td>\n",
       "      <td>0.045100</td>\n",
       "      <td>5800.000000</td>\n",
       "      <td>0.074000</td>\n",
       "      <td>0.096800</td>\n",
       "      <td>10754.000000</td>\n",
       "      <td>127.000000</td>\n",
       "      <td>127.000000</td>\n",
       "      <td>116.000000</td>\n",
       "      <td>198.000000</td>\n",
       "      <td>1333.000000</td>\n",
       "      <td>0.040400</td>\n",
       "      <td>1836.000000</td>\n",
       "      <td>1.000000</td>\n",
       "      <td>1.000000</td>\n",
       "      <td>1.000000</td>\n",
       "      <td>1574.000000</td>\n",
       "    </tr>\n",
       "    <tr>\n",
       "      <th>25%</th>\n",
       "      <td>21.000000</td>\n",
       "      <td>0.552050</td>\n",
       "      <td>976.000000</td>\n",
       "      <td>0.474700</td>\n",
       "      <td>21500.000000</td>\n",
       "      <td>0.258650</td>\n",
       "      <td>0.420875</td>\n",
       "      <td>21756.500000</td>\n",
       "      <td>693.500000</td>\n",
       "      <td>693.500000</td>\n",
       "      <td>645.000000</td>\n",
       "      <td>1405.000000</td>\n",
       "      <td>6273.250000</td>\n",
       "      <td>0.533950</td>\n",
       "      <td>7019.750000</td>\n",
       "      <td>1.000000</td>\n",
       "      <td>3.000000</td>\n",
       "      <td>18.000000</td>\n",
       "      <td>7708.000000</td>\n",
       "    </tr>\n",
       "    <tr>\n",
       "      <th>50%</th>\n",
       "      <td>23.000000</td>\n",
       "      <td>0.674900</td>\n",
       "      <td>1045.000000</td>\n",
       "      <td>0.602300</td>\n",
       "      <td>24661.250000</td>\n",
       "      <td>0.347350</td>\n",
       "      <td>0.541650</td>\n",
       "      <td>33492.500000</td>\n",
       "      <td>1258.000000</td>\n",
       "      <td>1258.000000</td>\n",
       "      <td>1150.000000</td>\n",
       "      <td>2724.500000</td>\n",
       "      <td>7396.500000</td>\n",
       "      <td>0.707050</td>\n",
       "      <td>8751.500000</td>\n",
       "      <td>2.000000</td>\n",
       "      <td>4.000000</td>\n",
       "      <td>30.000000</td>\n",
       "      <td>12017.500000</td>\n",
       "    </tr>\n",
       "    <tr>\n",
       "      <th>75%</th>\n",
       "      <td>25.000000</td>\n",
       "      <td>0.788950</td>\n",
       "      <td>1124.750000</td>\n",
       "      <td>0.710500</td>\n",
       "      <td>27000.000000</td>\n",
       "      <td>0.442625</td>\n",
       "      <td>0.670775</td>\n",
       "      <td>43733.250000</td>\n",
       "      <td>3154.750000</td>\n",
       "      <td>3154.750000</td>\n",
       "      <td>2866.500000</td>\n",
       "      <td>7059.250000</td>\n",
       "      <td>8830.500000</td>\n",
       "      <td>0.930800</td>\n",
       "      <td>11455.500000</td>\n",
       "      <td>2.000000</td>\n",
       "      <td>5.000000</td>\n",
       "      <td>42.000000</td>\n",
       "      <td>16569.750000</td>\n",
       "    </tr>\n",
       "    <tr>\n",
       "      <th>max</th>\n",
       "      <td>34.000000</td>\n",
       "      <td>1.000000</td>\n",
       "      <td>1507.000000</td>\n",
       "      <td>0.996300</td>\n",
       "      <td>42000.000000</td>\n",
       "      <td>0.996300</td>\n",
       "      <td>0.975900</td>\n",
       "      <td>67572.000000</td>\n",
       "      <td>34182.000000</td>\n",
       "      <td>34182.000000</td>\n",
       "      <td>31250.000000</td>\n",
       "      <td>54091.000000</td>\n",
       "      <td>21354.000000</td>\n",
       "      <td>1.000000</td>\n",
       "      <td>111600.000000</td>\n",
       "      <td>3.000000</td>\n",
       "      <td>9.000000</td>\n",
       "      <td>78.000000</td>\n",
       "      <td>42652.000000</td>\n",
       "    </tr>\n",
       "  </tbody>\n",
       "</table>\n",
       "</div>"
      ],
      "text/plain": [
       "       act_scores_midpoint  admission_rate  sat_scores_ave  fed_loan_rate  \\\n",
       "count          1102.000000     1102.000000     1102.000000    1102.000000   \n",
       "mean             23.301270        0.656997     1062.179673       0.589980   \n",
       "std               3.471694        0.190498      134.410289       0.163591   \n",
       "min              14.000000        0.050400      708.000000       0.045100   \n",
       "25%              21.000000        0.552050      976.000000       0.474700   \n",
       "50%              23.000000        0.674900     1045.000000       0.602300   \n",
       "75%              25.000000        0.788950     1124.750000       0.710500   \n",
       "max              34.000000        1.000000     1507.000000       0.996300   \n",
       "\n",
       "       median_debt_completers  pell_grant_rate  completion_rate  \\\n",
       "count             1102.000000      1102.000000      1102.000000   \n",
       "mean             23747.310799         0.361953         0.552293   \n",
       "std               4221.246579         0.144825         0.176481   \n",
       "min               5800.000000         0.074000         0.096800   \n",
       "25%              21500.000000         0.258650         0.420875   \n",
       "50%              24661.250000         0.347350         0.541650   \n",
       "75%              27000.000000         0.442625         0.670775   \n",
       "max              42000.000000         0.996300         0.975900   \n",
       "\n",
       "       cost_of_attendance    FAFSA_apps  family_income  parents_ed_level  \\\n",
       "count         1102.000000   1102.000000    1102.000000       1102.000000   \n",
       "mean         34008.384755   2534.943739    2534.943739       2311.059891   \n",
       "std          13629.507747   3215.893729    3215.893729       2903.823065   \n",
       "min          10754.000000    127.000000     127.000000        116.000000   \n",
       "25%          21756.500000    693.500000     693.500000        645.000000   \n",
       "50%          33492.500000   1258.000000    1258.000000       1150.000000   \n",
       "75%          43733.250000   3154.750000    3154.750000       2866.500000   \n",
       "max          67572.000000  34182.000000   34182.000000      31250.000000   \n",
       "\n",
       "       student_size       fac_sal  ft_fac_rate  instruc_expen_per_fte  \\\n",
       "count   1102.000000   1102.000000  1102.000000            1102.000000   \n",
       "mean    6051.648820   7797.700544     0.701789           10853.942831   \n",
       "std     7778.496773   2239.598200     0.234521            9115.491018   \n",
       "min      198.000000   1333.000000     0.040400            1836.000000   \n",
       "25%     1405.000000   6273.250000     0.533950            7019.750000   \n",
       "50%     2724.500000   7396.500000     0.707050            8751.500000   \n",
       "75%     7059.250000   8830.500000     0.930800           11455.500000   \n",
       "max    54091.000000  21354.000000     1.000000          111600.000000   \n",
       "\n",
       "       school.ownership  school.region_id  school.state_fips  \\\n",
       "count       1102.000000       1102.000000        1102.000000   \n",
       "mean           1.618875          4.227768          30.072595   \n",
       "std            0.496973          1.932050          14.966029   \n",
       "min            1.000000          1.000000           1.000000   \n",
       "25%            1.000000          3.000000          18.000000   \n",
       "50%            2.000000          4.000000          30.000000   \n",
       "75%            2.000000          5.000000          42.000000   \n",
       "max            3.000000          9.000000          78.000000   \n",
       "\n",
       "       school.tuition_revenue_per_fte  \n",
       "count                     1102.000000  \n",
       "mean                     13039.319419  \n",
       "std                       6772.819001  \n",
       "min                       1574.000000  \n",
       "25%                       7708.000000  \n",
       "50%                      12017.500000  \n",
       "75%                      16569.750000  \n",
       "max                      42652.000000  "
      ]
     },
     "execution_count": 8,
     "metadata": {},
     "output_type": "execute_result"
    }
   ],
   "source": [
    "df.describe()"
   ]
  },
  {
   "cell_type": "code",
   "execution_count": 9,
   "metadata": {},
   "outputs": [
    {
     "data": {
      "text/plain": [
       "count    1102.000000\n",
       "mean        0.552293\n",
       "std         0.176481\n",
       "min         0.096800\n",
       "25%         0.420875\n",
       "50%         0.541650\n",
       "75%         0.670775\n",
       "max         0.975900\n",
       "Name: completion_rate, dtype: float64"
      ]
     },
     "execution_count": 9,
     "metadata": {},
     "output_type": "execute_result"
    }
   ],
   "source": [
    "# This will be the target variable\n",
    "df.completion_rate.describe()"
   ]
  },
  {
   "cell_type": "code",
   "execution_count": 10,
   "metadata": {},
   "outputs": [
    {
     "data": {
      "text/html": [
       "<div>\n",
       "<style>\n",
       "    .dataframe thead tr:only-child th {\n",
       "        text-align: right;\n",
       "    }\n",
       "\n",
       "    .dataframe thead th {\n",
       "        text-align: left;\n",
       "    }\n",
       "\n",
       "    .dataframe tbody tr th {\n",
       "        vertical-align: top;\n",
       "    }\n",
       "</style>\n",
       "<table border=\"1\" class=\"dataframe\">\n",
       "  <thead>\n",
       "    <tr style=\"text-align: right;\">\n",
       "      <th></th>\n",
       "      <th>school.name</th>\n",
       "      <th>completion_rate</th>\n",
       "    </tr>\n",
       "  </thead>\n",
       "  <tbody>\n",
       "    <tr>\n",
       "      <th>1067</th>\n",
       "      <td>Harvard University</td>\n",
       "      <td>0.9759</td>\n",
       "    </tr>\n",
       "    <tr>\n",
       "      <th>1296</th>\n",
       "      <td>Princeton University</td>\n",
       "      <td>0.9684</td>\n",
       "    </tr>\n",
       "    <tr>\n",
       "      <th>120</th>\n",
       "      <td>Yale University</td>\n",
       "      <td>0.9678</td>\n",
       "    </tr>\n",
       "    <tr>\n",
       "      <th>947</th>\n",
       "      <td>University of Notre Dame</td>\n",
       "      <td>0.9655</td>\n",
       "    </tr>\n",
       "    <tr>\n",
       "      <th>454</th>\n",
       "      <td>Brown University</td>\n",
       "      <td>0.9597</td>\n",
       "    </tr>\n",
       "    <tr>\n",
       "      <th>1062</th>\n",
       "      <td>Williams College</td>\n",
       "      <td>0.9560</td>\n",
       "    </tr>\n",
       "    <tr>\n",
       "      <th>1516</th>\n",
       "      <td>University of Pennsylvania</td>\n",
       "      <td>0.9534</td>\n",
       "    </tr>\n",
       "    <tr>\n",
       "      <th>305</th>\n",
       "      <td>Columbia University in the City of New York</td>\n",
       "      <td>0.9518</td>\n",
       "    </tr>\n",
       "    <tr>\n",
       "      <th>1120</th>\n",
       "      <td>Amherst College</td>\n",
       "      <td>0.9505</td>\n",
       "    </tr>\n",
       "    <tr>\n",
       "      <th>863</th>\n",
       "      <td>Duke University</td>\n",
       "      <td>0.9495</td>\n",
       "    </tr>\n",
       "    <tr>\n",
       "      <th>241</th>\n",
       "      <td>Carleton College</td>\n",
       "      <td>0.9451</td>\n",
       "    </tr>\n",
       "    <tr>\n",
       "      <th>524</th>\n",
       "      <td>Middlebury College</td>\n",
       "      <td>0.9436</td>\n",
       "    </tr>\n",
       "    <tr>\n",
       "      <th>980</th>\n",
       "      <td>Pomona College</td>\n",
       "      <td>0.9434</td>\n",
       "    </tr>\n",
       "    <tr>\n",
       "      <th>1317</th>\n",
       "      <td>Dartmouth College</td>\n",
       "      <td>0.9414</td>\n",
       "    </tr>\n",
       "    <tr>\n",
       "      <th>1010</th>\n",
       "      <td>Georgetown University</td>\n",
       "      <td>0.9394</td>\n",
       "    </tr>\n",
       "    <tr>\n",
       "      <th>494</th>\n",
       "      <td>Swarthmore College</td>\n",
       "      <td>0.9391</td>\n",
       "    </tr>\n",
       "    <tr>\n",
       "      <th>1749</th>\n",
       "      <td>Stanford University</td>\n",
       "      <td>0.9385</td>\n",
       "    </tr>\n",
       "    <tr>\n",
       "      <th>1454</th>\n",
       "      <td>Colby College</td>\n",
       "      <td>0.9374</td>\n",
       "    </tr>\n",
       "    <tr>\n",
       "      <th>1437</th>\n",
       "      <td>Johns Hopkins University</td>\n",
       "      <td>0.9369</td>\n",
       "    </tr>\n",
       "    <tr>\n",
       "      <th>612</th>\n",
       "      <td>Cornell University</td>\n",
       "      <td>0.9348</td>\n",
       "    </tr>\n",
       "    <tr>\n",
       "      <th>1066</th>\n",
       "      <td>Tufts University</td>\n",
       "      <td>0.9347</td>\n",
       "    </tr>\n",
       "    <tr>\n",
       "      <th>1362</th>\n",
       "      <td>Davidson College</td>\n",
       "      <td>0.9343</td>\n",
       "    </tr>\n",
       "    <tr>\n",
       "      <th>522</th>\n",
       "      <td>University of Virginia-Main Campus</td>\n",
       "      <td>0.9330</td>\n",
       "    </tr>\n",
       "    <tr>\n",
       "      <th>1045</th>\n",
       "      <td>Wellesley College</td>\n",
       "      <td>0.9319</td>\n",
       "    </tr>\n",
       "    <tr>\n",
       "      <th>1100</th>\n",
       "      <td>Northwestern University</td>\n",
       "      <td>0.9276</td>\n",
       "    </tr>\n",
       "    <tr>\n",
       "      <th>1316</th>\n",
       "      <td>Washington University in St Louis</td>\n",
       "      <td>0.9264</td>\n",
       "    </tr>\n",
       "    <tr>\n",
       "      <th>208</th>\n",
       "      <td>Boston College</td>\n",
       "      <td>0.9242</td>\n",
       "    </tr>\n",
       "    <tr>\n",
       "      <th>968</th>\n",
       "      <td>University of Southern California</td>\n",
       "      <td>0.9226</td>\n",
       "    </tr>\n",
       "    <tr>\n",
       "      <th>718</th>\n",
       "      <td>Vanderbilt University</td>\n",
       "      <td>0.9198</td>\n",
       "    </tr>\n",
       "    <tr>\n",
       "      <th>1137</th>\n",
       "      <td>Massachusetts Institute of Technology</td>\n",
       "      <td>0.9193</td>\n",
       "    </tr>\n",
       "    <tr>\n",
       "      <th>...</th>\n",
       "      <td>...</td>\n",
       "      <td>...</td>\n",
       "    </tr>\n",
       "    <tr>\n",
       "      <th>448</th>\n",
       "      <td>University of South Carolina-Beaufort</td>\n",
       "      <td>0.2316</td>\n",
       "    </tr>\n",
       "    <tr>\n",
       "      <th>818</th>\n",
       "      <td>Bluefield State College</td>\n",
       "      <td>0.2270</td>\n",
       "    </tr>\n",
       "    <tr>\n",
       "      <th>902</th>\n",
       "      <td>Stillman College</td>\n",
       "      <td>0.2267</td>\n",
       "    </tr>\n",
       "    <tr>\n",
       "      <th>1032</th>\n",
       "      <td>Trinity College of Florida</td>\n",
       "      <td>0.2258</td>\n",
       "    </tr>\n",
       "    <tr>\n",
       "      <th>1145</th>\n",
       "      <td>Mississippi Valley State University</td>\n",
       "      <td>0.2228</td>\n",
       "    </tr>\n",
       "    <tr>\n",
       "      <th>166</th>\n",
       "      <td>Kentucky State University</td>\n",
       "      <td>0.2227</td>\n",
       "    </tr>\n",
       "    <tr>\n",
       "      <th>1711</th>\n",
       "      <td>Northeastern Illinois University</td>\n",
       "      <td>0.2219</td>\n",
       "    </tr>\n",
       "    <tr>\n",
       "      <th>999</th>\n",
       "      <td>Paine College</td>\n",
       "      <td>0.2190</td>\n",
       "    </tr>\n",
       "    <tr>\n",
       "      <th>686</th>\n",
       "      <td>Oklahoma Panhandle State University</td>\n",
       "      <td>0.2158</td>\n",
       "    </tr>\n",
       "    <tr>\n",
       "      <th>1679</th>\n",
       "      <td>Wesley College</td>\n",
       "      <td>0.2122</td>\n",
       "    </tr>\n",
       "    <tr>\n",
       "      <th>391</th>\n",
       "      <td>Sul Ross State University</td>\n",
       "      <td>0.2112</td>\n",
       "    </tr>\n",
       "    <tr>\n",
       "      <th>1800</th>\n",
       "      <td>Faulkner University</td>\n",
       "      <td>0.2109</td>\n",
       "    </tr>\n",
       "    <tr>\n",
       "      <th>1220</th>\n",
       "      <td>Watkins College of Art Design &amp; Film</td>\n",
       "      <td>0.2105</td>\n",
       "    </tr>\n",
       "    <tr>\n",
       "      <th>463</th>\n",
       "      <td>Northwestern Oklahoma State University</td>\n",
       "      <td>0.2040</td>\n",
       "    </tr>\n",
       "    <tr>\n",
       "      <th>133</th>\n",
       "      <td>Auburn University at Montgomery</td>\n",
       "      <td>0.2038</td>\n",
       "    </tr>\n",
       "    <tr>\n",
       "      <th>988</th>\n",
       "      <td>Edward Waters College</td>\n",
       "      <td>0.1983</td>\n",
       "    </tr>\n",
       "    <tr>\n",
       "      <th>353</th>\n",
       "      <td>Central State University</td>\n",
       "      <td>0.1895</td>\n",
       "    </tr>\n",
       "    <tr>\n",
       "      <th>710</th>\n",
       "      <td>Texas Southern University</td>\n",
       "      <td>0.1852</td>\n",
       "    </tr>\n",
       "    <tr>\n",
       "      <th>186</th>\n",
       "      <td>Coppin State University</td>\n",
       "      <td>0.1774</td>\n",
       "    </tr>\n",
       "    <tr>\n",
       "      <th>945</th>\n",
       "      <td>Iowa Wesleyan University</td>\n",
       "      <td>0.1753</td>\n",
       "    </tr>\n",
       "    <tr>\n",
       "      <th>111</th>\n",
       "      <td>Adventist University of Health Sciences</td>\n",
       "      <td>0.1571</td>\n",
       "    </tr>\n",
       "    <tr>\n",
       "      <th>1244</th>\n",
       "      <td>Southern University at New Orleans</td>\n",
       "      <td>0.1439</td>\n",
       "    </tr>\n",
       "    <tr>\n",
       "      <th>9</th>\n",
       "      <td>Middle Georgia State University</td>\n",
       "      <td>0.1434</td>\n",
       "    </tr>\n",
       "    <tr>\n",
       "      <th>565</th>\n",
       "      <td>Midwestern Baptist Theological Seminary</td>\n",
       "      <td>0.1379</td>\n",
       "    </tr>\n",
       "    <tr>\n",
       "      <th>430</th>\n",
       "      <td>Le Moyne-Owen College</td>\n",
       "      <td>0.1333</td>\n",
       "    </tr>\n",
       "    <tr>\n",
       "      <th>721</th>\n",
       "      <td>University of Houston-Downtown</td>\n",
       "      <td>0.1330</td>\n",
       "    </tr>\n",
       "    <tr>\n",
       "      <th>413</th>\n",
       "      <td>Paul Quinn College</td>\n",
       "      <td>0.1290</td>\n",
       "    </tr>\n",
       "    <tr>\n",
       "      <th>141</th>\n",
       "      <td>Chicago State University</td>\n",
       "      <td>0.1104</td>\n",
       "    </tr>\n",
       "    <tr>\n",
       "      <th>467</th>\n",
       "      <td>Bacone College</td>\n",
       "      <td>0.1090</td>\n",
       "    </tr>\n",
       "    <tr>\n",
       "      <th>1202</th>\n",
       "      <td>Ecclesia College</td>\n",
       "      <td>0.0968</td>\n",
       "    </tr>\n",
       "  </tbody>\n",
       "</table>\n",
       "<p>1102 rows × 2 columns</p>\n",
       "</div>"
      ],
      "text/plain": [
       "                                      school.name  completion_rate\n",
       "1067                           Harvard University           0.9759\n",
       "1296                         Princeton University           0.9684\n",
       "120                               Yale University           0.9678\n",
       "947                      University of Notre Dame           0.9655\n",
       "454                              Brown University           0.9597\n",
       "1062                             Williams College           0.9560\n",
       "1516                   University of Pennsylvania           0.9534\n",
       "305   Columbia University in the City of New York           0.9518\n",
       "1120                              Amherst College           0.9505\n",
       "863                               Duke University           0.9495\n",
       "241                              Carleton College           0.9451\n",
       "524                            Middlebury College           0.9436\n",
       "980                                Pomona College           0.9434\n",
       "1317                            Dartmouth College           0.9414\n",
       "1010                        Georgetown University           0.9394\n",
       "494                            Swarthmore College           0.9391\n",
       "1749                          Stanford University           0.9385\n",
       "1454                                Colby College           0.9374\n",
       "1437                     Johns Hopkins University           0.9369\n",
       "612                            Cornell University           0.9348\n",
       "1066                             Tufts University           0.9347\n",
       "1362                             Davidson College           0.9343\n",
       "522            University of Virginia-Main Campus           0.9330\n",
       "1045                            Wellesley College           0.9319\n",
       "1100                      Northwestern University           0.9276\n",
       "1316            Washington University in St Louis           0.9264\n",
       "208                                Boston College           0.9242\n",
       "968             University of Southern California           0.9226\n",
       "718                         Vanderbilt University           0.9198\n",
       "1137        Massachusetts Institute of Technology           0.9193\n",
       "...                                           ...              ...\n",
       "448         University of South Carolina-Beaufort           0.2316\n",
       "818                       Bluefield State College           0.2270\n",
       "902                              Stillman College           0.2267\n",
       "1032                   Trinity College of Florida           0.2258\n",
       "1145          Mississippi Valley State University           0.2228\n",
       "166                     Kentucky State University           0.2227\n",
       "1711             Northeastern Illinois University           0.2219\n",
       "999                                 Paine College           0.2190\n",
       "686           Oklahoma Panhandle State University           0.2158\n",
       "1679                               Wesley College           0.2122\n",
       "391                     Sul Ross State University           0.2112\n",
       "1800                          Faulkner University           0.2109\n",
       "1220         Watkins College of Art Design & Film           0.2105\n",
       "463        Northwestern Oklahoma State University           0.2040\n",
       "133               Auburn University at Montgomery           0.2038\n",
       "988                         Edward Waters College           0.1983\n",
       "353                      Central State University           0.1895\n",
       "710                     Texas Southern University           0.1852\n",
       "186                       Coppin State University           0.1774\n",
       "945                      Iowa Wesleyan University           0.1753\n",
       "111       Adventist University of Health Sciences           0.1571\n",
       "1244           Southern University at New Orleans           0.1439\n",
       "9                 Middle Georgia State University           0.1434\n",
       "565       Midwestern Baptist Theological Seminary           0.1379\n",
       "430                         Le Moyne-Owen College           0.1333\n",
       "721                University of Houston-Downtown           0.1330\n",
       "413                            Paul Quinn College           0.1290\n",
       "141                      Chicago State University           0.1104\n",
       "467                                Bacone College           0.1090\n",
       "1202                             Ecclesia College           0.0968\n",
       "\n",
       "[1102 rows x 2 columns]"
      ]
     },
     "execution_count": 10,
     "metadata": {},
     "output_type": "execute_result"
    }
   ],
   "source": [
    "# Let's see what colleges have the highest completion rates\n",
    "df[['school.name', 'completion_rate']].sort_values('completion_rate', ascending=False)"
   ]
  },
  {
   "cell_type": "markdown",
   "metadata": {},
   "source": [
    "#### Makes sense, looks like some of the best schools (i.e. Harvard, Princeton, etc.) have the highest completion rates"
   ]
  },
  {
   "cell_type": "code",
   "execution_count": 11,
   "metadata": {},
   "outputs": [
    {
     "data": {
      "text/html": [
       "<div>\n",
       "<style>\n",
       "    .dataframe thead tr:only-child th {\n",
       "        text-align: right;\n",
       "    }\n",
       "\n",
       "    .dataframe thead th {\n",
       "        text-align: left;\n",
       "    }\n",
       "\n",
       "    .dataframe tbody tr th {\n",
       "        vertical-align: top;\n",
       "    }\n",
       "</style>\n",
       "<table border=\"1\" class=\"dataframe\">\n",
       "  <thead>\n",
       "    <tr style=\"text-align: right;\">\n",
       "      <th></th>\n",
       "      <th>school.name</th>\n",
       "      <th>act_scores_midpoint</th>\n",
       "    </tr>\n",
       "  </thead>\n",
       "  <tbody>\n",
       "    <tr>\n",
       "      <th>1137</th>\n",
       "      <td>Massachusetts Institute of Technology</td>\n",
       "      <td>34.0</td>\n",
       "    </tr>\n",
       "    <tr>\n",
       "      <th>399</th>\n",
       "      <td>Rice University</td>\n",
       "      <td>34.0</td>\n",
       "    </tr>\n",
       "    <tr>\n",
       "      <th>1731</th>\n",
       "      <td>University of Chicago</td>\n",
       "      <td>34.0</td>\n",
       "    </tr>\n",
       "    <tr>\n",
       "      <th>718</th>\n",
       "      <td>Vanderbilt University</td>\n",
       "      <td>34.0</td>\n",
       "    </tr>\n",
       "    <tr>\n",
       "      <th>1067</th>\n",
       "      <td>Harvard University</td>\n",
       "      <td>34.0</td>\n",
       "    </tr>\n",
       "    <tr>\n",
       "      <th>1296</th>\n",
       "      <td>Princeton University</td>\n",
       "      <td>34.0</td>\n",
       "    </tr>\n",
       "    <tr>\n",
       "      <th>947</th>\n",
       "      <td>University of Notre Dame</td>\n",
       "      <td>33.0</td>\n",
       "    </tr>\n",
       "    <tr>\n",
       "      <th>1120</th>\n",
       "      <td>Amherst College</td>\n",
       "      <td>33.0</td>\n",
       "    </tr>\n",
       "    <tr>\n",
       "      <th>120</th>\n",
       "      <td>Yale University</td>\n",
       "      <td>33.0</td>\n",
       "    </tr>\n",
       "    <tr>\n",
       "      <th>1516</th>\n",
       "      <td>University of Pennsylvania</td>\n",
       "      <td>33.0</td>\n",
       "    </tr>\n",
       "    <tr>\n",
       "      <th>1513</th>\n",
       "      <td>Haverford College</td>\n",
       "      <td>33.0</td>\n",
       "    </tr>\n",
       "    <tr>\n",
       "      <th>1100</th>\n",
       "      <td>Northwestern University</td>\n",
       "      <td>33.0</td>\n",
       "    </tr>\n",
       "    <tr>\n",
       "      <th>1496</th>\n",
       "      <td>Carnegie Mellon University</td>\n",
       "      <td>33.0</td>\n",
       "    </tr>\n",
       "    <tr>\n",
       "      <th>1749</th>\n",
       "      <td>Stanford University</td>\n",
       "      <td>33.0</td>\n",
       "    </tr>\n",
       "    <tr>\n",
       "      <th>305</th>\n",
       "      <td>Columbia University in the City of New York</td>\n",
       "      <td>33.0</td>\n",
       "    </tr>\n",
       "    <tr>\n",
       "      <th>454</th>\n",
       "      <td>Brown University</td>\n",
       "      <td>33.0</td>\n",
       "    </tr>\n",
       "    <tr>\n",
       "      <th>863</th>\n",
       "      <td>Duke University</td>\n",
       "      <td>33.0</td>\n",
       "    </tr>\n",
       "    <tr>\n",
       "      <th>1316</th>\n",
       "      <td>Washington University in St Louis</td>\n",
       "      <td>33.0</td>\n",
       "    </tr>\n",
       "    <tr>\n",
       "      <th>1062</th>\n",
       "      <td>Williams College</td>\n",
       "      <td>33.0</td>\n",
       "    </tr>\n",
       "    <tr>\n",
       "      <th>1052</th>\n",
       "      <td>Northeastern University</td>\n",
       "      <td>33.0</td>\n",
       "    </tr>\n",
       "  </tbody>\n",
       "</table>\n",
       "</div>"
      ],
      "text/plain": [
       "                                      school.name  act_scores_midpoint\n",
       "1137        Massachusetts Institute of Technology                 34.0\n",
       "399                               Rice University                 34.0\n",
       "1731                        University of Chicago                 34.0\n",
       "718                         Vanderbilt University                 34.0\n",
       "1067                           Harvard University                 34.0\n",
       "1296                         Princeton University                 34.0\n",
       "947                      University of Notre Dame                 33.0\n",
       "1120                              Amherst College                 33.0\n",
       "120                               Yale University                 33.0\n",
       "1516                   University of Pennsylvania                 33.0\n",
       "1513                            Haverford College                 33.0\n",
       "1100                      Northwestern University                 33.0\n",
       "1496                   Carnegie Mellon University                 33.0\n",
       "1749                          Stanford University                 33.0\n",
       "305   Columbia University in the City of New York                 33.0\n",
       "454                              Brown University                 33.0\n",
       "863                               Duke University                 33.0\n",
       "1316            Washington University in St Louis                 33.0\n",
       "1062                             Williams College                 33.0\n",
       "1052                      Northeastern University                 33.0"
      ]
     },
     "execution_count": 11,
     "metadata": {},
     "output_type": "execute_result"
    }
   ],
   "source": [
    "# Let's print out the schools with the highest ACT score median, just for fun\n",
    "df[['school.name', 'act_scores_midpoint']].sort_values('act_scores_midpoint', ascending=False).head(20)"
   ]
  },
  {
   "cell_type": "code",
   "execution_count": 12,
   "metadata": {},
   "outputs": [
    {
     "data": {
      "text/plain": [
       "<matplotlib.axes._subplots.AxesSubplot at 0x1e273a6a4a8>"
      ]
     },
     "execution_count": 12,
     "metadata": {},
     "output_type": "execute_result"
    },
    {
     "data": {
      "image/png": "[encoded data removed]",
      "text/plain": [
       "<matplotlib.figure.Figure at 0x1e273a6add8>"
      ]
     },
     "metadata": {},
     "output_type": "display_data"
    }
   ],
   "source": [
    "plt.figure(figsize=(15,10))\n",
    "sns.heatmap(df.corr(), cmap='jet', annot=True)"
   ]
  },
  {
   "cell_type": "code",
   "execution_count": 13,
   "metadata": {
    "scrolled": true
   },
   "outputs": [
    {
     "data": {
      "text/plain": [
       "completion_rate                   1.000000\n",
       "act_scores_midpoint               0.834534\n",
       "sat_scores_ave                    0.831456\n",
       "pell_grant_rate                   0.703038\n",
       "fac_sal                           0.661219\n",
       "school.tuition_revenue_per_fte    0.599176\n",
       "cost_of_attendance                0.583140\n",
       "instruc_expen_per_fte             0.532953\n",
       "fed_loan_rate                     0.396466\n",
       "admission_rate                    0.331230\n",
       "student_size                      0.223267\n",
       "median_debt_completers            0.190837\n",
       "school.ownership                  0.190679\n",
       "school.region_id                  0.171037\n",
       "ft_fac_rate                       0.104722\n",
       "parents_ed_level                  0.090557\n",
       "FAFSA_apps                        0.075269\n",
       "family_income                     0.075269\n",
       "school.state_fips                 0.002851\n",
       "Name: completion_rate, dtype: float64"
      ]
     },
     "execution_count": 13,
     "metadata": {},
     "output_type": "execute_result"
    }
   ],
   "source": [
    "# the features correlated with completion rate\n",
    "df.corr().abs()['completion_rate'].sort_values(ascending=False)"
   ]
  },
  {
   "cell_type": "code",
   "execution_count": 14,
   "metadata": {
    "collapsed": true
   },
   "outputs": [],
   "source": [
    "# Set up the X and y arrays\n",
    "# X is everything excluding school name and the target variable\n",
    "X = df[[x for x in df.columns if x not in ['school.name','completion_rate']]].values\n",
    "y = df['completion_rate'].values"
   ]
  },
  {
   "cell_type": "code",
   "execution_count": 15,
   "metadata": {},
   "outputs": [
    {
     "data": {
      "text/plain": [
       "0.55229283121597095"
      ]
     },
     "execution_count": 15,
     "metadata": {},
     "output_type": "execute_result"
    }
   ],
   "source": [
    "y.mean()"
   ]
  },
  {
   "cell_type": "code",
   "execution_count": 16,
   "metadata": {},
   "outputs": [
    {
     "data": {
      "text/plain": [
       "(1102, 18)"
      ]
     },
     "execution_count": 16,
     "metadata": {},
     "output_type": "execute_result"
    }
   ],
   "source": [
    "# 18 columns/features in the model\n",
    "X.shape"
   ]
  },
  {
   "cell_type": "code",
   "execution_count": 17,
   "metadata": {
    "collapsed": true
   },
   "outputs": [],
   "source": [
    "X_train, X_test, y_train, y_test = train_test_split(X, y, random_state=42)"
   ]
  },
  {
   "cell_type": "code",
   "execution_count": 18,
   "metadata": {
    "collapsed": true
   },
   "outputs": [],
   "source": [
    "# I'm going to fit a Random Forest model first, just to check the feature importances\n",
    "# to see which are the most important features\n",
    "# \n",
    "# No need to standardize with a tree estimator\n",
    "\n",
    "rfr = RandomForestRegressor(n_estimators=500, max_features='log2')"
   ]
  },
  {
   "cell_type": "code",
   "execution_count": 19,
   "metadata": {},
   "outputs": [
    {
     "data": {
      "text/plain": [
       "RandomForestRegressor(bootstrap=True, criterion='mse', max_depth=None,\n",
       "           max_features='log2', max_leaf_nodes=None,\n",
       "           min_impurity_decrease=0.0, min_impurity_split=None,\n",
       "           min_samples_leaf=1, min_samples_split=2,\n",
       "           min_weight_fraction_leaf=0.0, n_estimators=500, n_jobs=1,\n",
       "           oob_score=False, random_state=None, verbose=0, warm_start=False)"
      ]
     },
     "execution_count": 19,
     "metadata": {},
     "output_type": "execute_result"
    }
   ],
   "source": [
    "rfr.fit(X_train, y_train)"
   ]
  },
  {
   "cell_type": "code",
   "execution_count": 20,
   "metadata": {},
   "outputs": [
    {
     "data": {
      "text/plain": [
       "0.75720513366447717"
      ]
     },
     "execution_count": 20,
     "metadata": {},
     "output_type": "execute_result"
    }
   ],
   "source": [
    "rfr.score(X_test, y_test)"
   ]
  },
  {
   "cell_type": "code",
   "execution_count": 22,
   "metadata": {},
   "outputs": [
    {
     "data": {
      "text/plain": [
       "array([ 0.18287091,  0.03974572,  0.24302391,  0.02682974,  0.01974194,\n",
       "        0.11286859,  0.08264995,  0.01248038,  0.01206271,  0.0129904 ,\n",
       "        0.01592911,  0.06272968,  0.0130686 ,  0.08734688,  0.00269536,\n",
       "        0.01464715,  0.01145293,  0.04686603])"
      ]
     },
     "execution_count": 22,
     "metadata": {},
     "output_type": "execute_result"
    }
   ],
   "source": [
    "rfr.feature_importances_"
   ]
  },
  {
   "cell_type": "code",
   "execution_count": 28,
   "metadata": {},
   "outputs": [
    {
     "data": {
      "text/html": [
       "<div>\n",
       "<style>\n",
       "    .dataframe thead tr:only-child th {\n",
       "        text-align: right;\n",
       "    }\n",
       "\n",
       "    .dataframe thead th {\n",
       "        text-align: left;\n",
       "    }\n",
       "\n",
       "    .dataframe tbody tr th {\n",
       "        vertical-align: top;\n",
       "    }\n",
       "</style>\n",
       "<table border=\"1\" class=\"dataframe\">\n",
       "  <thead>\n",
       "    <tr style=\"text-align: right;\">\n",
       "      <th></th>\n",
       "      <th>importance</th>\n",
       "    </tr>\n",
       "  </thead>\n",
       "  <tbody>\n",
       "    <tr>\n",
       "      <th>sat_scores_ave</th>\n",
       "      <td>0.243024</td>\n",
       "    </tr>\n",
       "    <tr>\n",
       "      <th>act_scores_midpoint</th>\n",
       "      <td>0.182871</td>\n",
       "    </tr>\n",
       "    <tr>\n",
       "      <th>pell_grant_rate</th>\n",
       "      <td>0.112869</td>\n",
       "    </tr>\n",
       "    <tr>\n",
       "      <th>instruc_expen_per_fte</th>\n",
       "      <td>0.087347</td>\n",
       "    </tr>\n",
       "    <tr>\n",
       "      <th>cost_of_attendance</th>\n",
       "      <td>0.082650</td>\n",
       "    </tr>\n",
       "    <tr>\n",
       "      <th>fac_sal</th>\n",
       "      <td>0.062730</td>\n",
       "    </tr>\n",
       "    <tr>\n",
       "      <th>school.tuition_revenue_per_fte</th>\n",
       "      <td>0.046866</td>\n",
       "    </tr>\n",
       "    <tr>\n",
       "      <th>admission_rate</th>\n",
       "      <td>0.039746</td>\n",
       "    </tr>\n",
       "    <tr>\n",
       "      <th>fed_loan_rate</th>\n",
       "      <td>0.026830</td>\n",
       "    </tr>\n",
       "    <tr>\n",
       "      <th>median_debt_completers</th>\n",
       "      <td>0.019742</td>\n",
       "    </tr>\n",
       "    <tr>\n",
       "      <th>student_size</th>\n",
       "      <td>0.015929</td>\n",
       "    </tr>\n",
       "    <tr>\n",
       "      <th>school.region_id</th>\n",
       "      <td>0.014647</td>\n",
       "    </tr>\n",
       "    <tr>\n",
       "      <th>ft_fac_rate</th>\n",
       "      <td>0.013069</td>\n",
       "    </tr>\n",
       "    <tr>\n",
       "      <th>parents_ed_level</th>\n",
       "      <td>0.012990</td>\n",
       "    </tr>\n",
       "    <tr>\n",
       "      <th>FAFSA_apps</th>\n",
       "      <td>0.012480</td>\n",
       "    </tr>\n",
       "    <tr>\n",
       "      <th>family_income</th>\n",
       "      <td>0.012063</td>\n",
       "    </tr>\n",
       "    <tr>\n",
       "      <th>school.state_fips</th>\n",
       "      <td>0.011453</td>\n",
       "    </tr>\n",
       "    <tr>\n",
       "      <th>school.ownership</th>\n",
       "      <td>0.002695</td>\n",
       "    </tr>\n",
       "  </tbody>\n",
       "</table>\n",
       "</div>"
      ],
      "text/plain": [
       "                                importance\n",
       "sat_scores_ave                    0.243024\n",
       "act_scores_midpoint               0.182871\n",
       "pell_grant_rate                   0.112869\n",
       "instruc_expen_per_fte             0.087347\n",
       "cost_of_attendance                0.082650\n",
       "fac_sal                           0.062730\n",
       "school.tuition_revenue_per_fte    0.046866\n",
       "admission_rate                    0.039746\n",
       "fed_loan_rate                     0.026830\n",
       "median_debt_completers            0.019742\n",
       "student_size                      0.015929\n",
       "school.region_id                  0.014647\n",
       "ft_fac_rate                       0.013069\n",
       "parents_ed_level                  0.012990\n",
       "FAFSA_apps                        0.012480\n",
       "family_income                     0.012063\n",
       "school.state_fips                 0.011453\n",
       "school.ownership                  0.002695"
      ]
     },
     "execution_count": 28,
     "metadata": {},
     "output_type": "execute_result"
    }
   ],
   "source": [
    "#determine most important features\n",
    "feat_labels = [x for x in df.columns if x not in \n",
    "               ['school.name','completion_rate']]\n",
    "\n",
    "rfr_feature_importances = pd.DataFrame(rfr.feature_importances_,\n",
    "                                   index = feat_labels,\n",
    "                                    columns=['importance']).sort_values('importance',\n",
    "                                    ascending=False)\n",
    "rfr_feature_importances\n",
    "\n",
    "\n"
   ]
  },
  {
   "cell_type": "code",
   "execution_count": 43,
   "metadata": {},
   "outputs": [
    {
     "data": {
      "text/plain": [
       "<matplotlib.axes._subplots.AxesSubplot at 0x1e276c98e10>"
      ]
     },
     "execution_count": 43,
     "metadata": {},
     "output_type": "execute_result"
    },
    {
     "data": {
      "image/png": "[encoded data removed]",
      "text/plain": [
       "<matplotlib.figure.Figure at 0x1e276cd0fd0>"
      ]
     },
     "metadata": {},
     "output_type": "display_data"
    }
   ],
   "source": [
    "rfr_feature_importances.plot(kind='bar')"
   ]
  },
  {
   "cell_type": "markdown",
   "metadata": {},
   "source": [
    "#### Pretty useful to see which features seem to be most important in a Random Forest model. With only 18 features however, I'm not worried about curse of dimensionality, so I'm going to leave my X as these 18 features.\n",
    "\n",
    "#### But seems like SAT and ACT scores are by far the most important features for completion, followed by Pell Grant Rate and Instructor Expenditure.\n"
   ]
  },
  {
   "cell_type": "code",
   "execution_count": null,
   "metadata": {
    "collapsed": true
   },
   "outputs": [],
   "source": []
  },
  {
   "cell_type": "markdown",
   "metadata": {},
   "source": [
    "# Pipeline to find best estimator"
   ]
  },
  {
   "cell_type": "code",
   "execution_count": 65,
   "metadata": {
    "collapsed": true
   },
   "outputs": [],
   "source": [
    "# Let's make a pipeline to see which model performs the best\n",
    "pipeline = Pipeline([\n",
    "  ('standardize', StandardScaler()),\n",
    "  ('estimator', RandomForestRegressor())\n",
    "])\n",
    "\n",
    "params = {'estimator': [\n",
    "    SVR(), LinearSVR(), AdaBoostRegressor(), \n",
    "    GradientBoostingRegressor(), \n",
    "    RandomForestRegressor(),\n",
    "    DecisionTreeRegressor()\n",
    "]}\n",
    "\n",
    "grid_search = GridSearchCV(pipeline, params, n_jobs=-1, verbose=1)"
   ]
  },
  {
   "cell_type": "code",
   "execution_count": 39,
   "metadata": {},
   "outputs": [
    {
     "name": "stdout",
     "output_type": "stream",
     "text": [
      "Fitting 3 folds for each of 6 candidates, totalling 18 fits\n"
     ]
    },
    {
     "name": "stderr",
     "output_type": "stream",
     "text": [
      "[Parallel(n_jobs=-1)]: Done  18 out of  18 | elapsed:   21.4s finished\n"
     ]
    },
    {
     "name": "stdout",
     "output_type": "stream",
     "text": [
      "best score 0.790570805737\n",
      "best params {'estimator': GradientBoostingRegressor(alpha=0.9, criterion='friedman_mse', init=None,\n",
      "             learning_rate=0.1, loss='ls', max_depth=3, max_features=None,\n",
      "             max_leaf_nodes=None, min_impurity_decrease=0.0,\n",
      "             min_impurity_split=None, min_samples_leaf=1,\n",
      "             min_samples_split=2, min_weight_fraction_leaf=0.0,\n",
      "             n_estimators=100, presort='auto', random_state=None,\n",
      "             subsample=1.0, verbose=0, warm_start=False)}\n",
      "test score 0.771002155163\n"
     ]
    }
   ],
   "source": [
    "grid_search.fit(X_train, y_train)\n",
    "print('best score', grid_search.best_score_)\n",
    "print('best params', grid_search.best_params_)\n",
    "print('test score', grid_search.score(X_test, y_test))"
   ]
  },
  {
   "cell_type": "markdown",
   "metadata": {},
   "source": [
    "# Pipeline with best estimator (Gradient Boosting Regressor)"
   ]
  },
  {
   "cell_type": "code",
   "execution_count": 150,
   "metadata": {},
   "outputs": [
    {
     "name": "stdout",
     "output_type": "stream",
     "text": [
      "Fitting 5 folds for each of 240 candidates, totalling 1200 fits\n"
     ]
    },
    {
     "name": "stderr",
     "output_type": "stream",
     "text": [
      "[Parallel(n_jobs=-1)]: Done  42 tasks      | elapsed:   16.8s\n",
      "[Parallel(n_jobs=-1)]: Done 192 tasks      | elapsed:   36.3s\n",
      "[Parallel(n_jobs=-1)]: Done 442 tasks      | elapsed:  1.1min\n",
      "[Parallel(n_jobs=-1)]: Done 792 tasks      | elapsed:  1.7min\n",
      "[Parallel(n_jobs=-1)]: Done 1200 out of 1200 | elapsed:  2.9min finished\n"
     ]
    },
    {
     "name": "stdout",
     "output_type": "stream",
     "text": [
      "best score 0.802913981423\n",
      "best params {'estimator__max_depth': 3, 'estimator__max_features': 'sqrt', 'estimator__min_samples_split': 3, 'estimator__n_estimators': 250}\n",
      "test score 0.766695051744\n"
     ]
    }
   ],
   "source": [
    "# Pipeline with a Gridsearch using our best estimator from the previous pipeline to select best hyperparameters\n",
    "pipeline = Pipeline([\n",
    "  ('standardize', StandardScaler()),\n",
    "  ('estimator', GradientBoostingRegressor())\n",
    "])\n",
    "\n",
    "params = {\n",
    "    'estimator__n_estimators': [100,250,500,1000],\n",
    "    'estimator__max_features': [None,'sqrt','log2',2,4],\n",
    "    'estimator__max_depth': [None,3,5],\n",
    "    'estimator__min_samples_split': [2,3,4,5]\n",
    "}\n",
    "\n",
    "grid_search = GridSearchCV(pipeline, params, n_jobs=-1, verbose=1, cv=5)\n",
    "\n",
    "grid_search.fit(X_train, y_train)\n",
    "print('best score', grid_search.best_score_)\n",
    "print('best params', grid_search.best_params_)\n",
    "print('test score', grid_search.score(X_test, y_test))\n",
    "\n",
    "# save this as my best model\n",
    "best_model = grid_search.best_estimator_"
   ]
  },
  {
   "cell_type": "markdown",
   "metadata": {},
   "source": [
    "#### Make the same model, but with scoring = neg_mean_squared_error\n",
    "Can use this to compare with the Neural Network model that we will do later"
   ]
  },
  {
   "cell_type": "code",
   "execution_count": 91,
   "metadata": {},
   "outputs": [
    {
     "name": "stdout",
     "output_type": "stream",
     "text": [
      "Fitting 5 folds for each of 240 candidates, totalling 1200 fits\n"
     ]
    },
    {
     "name": "stderr",
     "output_type": "stream",
     "text": [
      "[Parallel(n_jobs=-1)]: Done  42 tasks      | elapsed:   17.1s\n",
      "[Parallel(n_jobs=-1)]: Done 192 tasks      | elapsed:   35.9s\n",
      "[Parallel(n_jobs=-1)]: Done 442 tasks      | elapsed:  1.1min\n",
      "[Parallel(n_jobs=-1)]: Done 792 tasks      | elapsed:  1.7min\n",
      "[Parallel(n_jobs=-1)]: Done 1200 out of 1200 | elapsed:  2.7min finished\n"
     ]
    },
    {
     "name": "stdout",
     "output_type": "stream",
     "text": [
      "best score -0.00622007186913\n",
      "best params {'estimator__max_depth': 5, 'estimator__max_features': 'log2', 'estimator__min_samples_split': 5, 'estimator__n_estimators': 100}\n",
      "test score -0.00690641177897\n"
     ]
    }
   ],
   "source": [
    "pipeline = Pipeline([\n",
    "  ('standardize', StandardScaler()),\n",
    "  ('estimator', GradientBoostingRegressor())\n",
    "])\n",
    "\n",
    "params = {\n",
    "    'estimator__n_estimators': [100,250,500,1000],\n",
    "    'estimator__max_features': [None,'sqrt','log2',2,4],\n",
    "    'estimator__max_depth': [None,3,5],\n",
    "    'estimator__min_samples_split': [2,3,4,5]\n",
    "}\n",
    "\n",
    "grid_search = GridSearchCV(pipeline, params, n_jobs=-1, verbose=1, cv=5, scoring='neg_mean_squared_error')\n",
    "\n",
    "grid_search.fit(X_train, y_train)\n",
    "print('best score', grid_search.best_score_)\n",
    "print('best params', grid_search.best_params_)\n",
    "print('test score', grid_search.score(X_test, y_test))"
   ]
  },
  {
   "cell_type": "code",
   "execution_count": 167,
   "metadata": {},
   "outputs": [
    {
     "name": "stdout",
     "output_type": "stream",
     "text": [
      "test score 0.766695051744\n"
     ]
    }
   ],
   "source": [
    "# Save this mean squared error score to a variable so we can compare it with the neural network model later\n",
    "gbr_test_mse_score = grid_search.score(X_test, y_test)\n",
    "print('test score', gbr_test_mse_score) "
   ]
  },
  {
   "cell_type": "markdown",
   "metadata": {
    "collapsed": true
   },
   "source": [
    "#### Let's try a pipeline using SelectFromModel to choose the best features"
   ]
  },
  {
   "cell_type": "code",
   "execution_count": 48,
   "metadata": {
    "collapsed": true
   },
   "outputs": [],
   "source": [
    "\n",
    "pipeline = Pipeline([\n",
    "    ('standardize', StandardScaler()),\n",
    "    ('feature_selection', SelectFromModel(LinearSVR())),\n",
    "    ('estimator', GradientBoostingRegressor())\n",
    "])\n",
    "\n",
    "params = {\n",
    "    'feature_selection__estimator__C':np.logspace(-3, 2, 5),\n",
    "    'estimator__n_estimators': [250,1000],\n",
    "    'estimator__max_features': [None,'sqrt','log2'],\n",
    "    'estimator__max_depth': [None,3,5],\n",
    "    'estimator__min_samples_split': [2,4,6]\n",
    "}\n",
    "\n",
    "grid_search = GridSearchCV(pipeline, params, n_jobs=-1, verbose=1, cv=5)"
   ]
  },
  {
   "cell_type": "code",
   "execution_count": 49,
   "metadata": {
    "scrolled": false
   },
   "outputs": [
    {
     "name": "stdout",
     "output_type": "stream",
     "text": [
      "Fitting 5 folds for each of 270 candidates, totalling 1350 fits\n"
     ]
    },
    {
     "name": "stderr",
     "output_type": "stream",
     "text": [
      "[Parallel(n_jobs=-1)]: Done  42 tasks      | elapsed:   17.7s\n",
      "[Parallel(n_jobs=-1)]: Done 192 tasks      | elapsed:   49.4s\n",
      "[Parallel(n_jobs=-1)]: Done 442 tasks      | elapsed:  1.6min\n",
      "[Parallel(n_jobs=-1)]: Done 792 tasks      | elapsed:  2.8min\n",
      "[Parallel(n_jobs=-1)]: Done 1242 tasks      | elapsed:  5.1min\n",
      "[Parallel(n_jobs=-1)]: Done 1350 out of 1350 | elapsed:  5.6min finished\n"
     ]
    },
    {
     "name": "stdout",
     "output_type": "stream",
     "text": [
      "best score 0.774852798825\n",
      "best params {'estimator__max_depth': 3, 'estimator__max_features': 'sqrt', 'estimator__min_samples_split': 4, 'estimator__n_estimators': 250, 'feature_selection__estimator__C': 0.017782794100389229}\n",
      "test score 0.744717615358\n"
     ]
    }
   ],
   "source": [
    "grid_search.fit(X_train, y_train)\n",
    "print('best score', grid_search.best_score_)\n",
    "print('best params', grid_search.best_params_)\n",
    "print('test score', grid_search.score(X_test, y_test))\n"
   ]
  },
  {
   "cell_type": "markdown",
   "metadata": {},
   "source": [
    "##### Looks like SelectFromModel didn't really help at all. With only 18 features, it makes sense that it's unnecessary to narrow down features. No curse of dimensionality.\n"
   ]
  },
  {
   "cell_type": "markdown",
   "metadata": {
    "collapsed": true
   },
   "source": [
    "### Gradient Boost Model with 7 best features"
   ]
  },
  {
   "cell_type": "code",
   "execution_count": 66,
   "metadata": {
    "collapsed": true
   },
   "outputs": [],
   "source": [
    "X_small = df[['sat_scores_ave', 'act_scores_midpoint', 'pell_grant_rate', \n",
    "              'instruc_expen_per_fte', 'cost_of_attendance', 'fac_sal', \n",
    "              'school.tuition_revenue_per_fte']].values\n",
    "\n",
    "X_train, X_test, y_train, y_test = train_test_split(X_small, y, random_state=42)"
   ]
  },
  {
   "cell_type": "code",
   "execution_count": 67,
   "metadata": {
    "collapsed": true
   },
   "outputs": [],
   "source": [
    "pipeline = Pipeline([\n",
    "  ('standardize', StandardScaler()),\n",
    "  ('estimator', GradientBoostingRegressor())\n",
    "])\n",
    "\n",
    "params = {\n",
    "    'estimator__n_estimators': [250,500,1000],\n",
    "    'estimator__max_features': [None,'sqrt','log2'],\n",
    "    'estimator__max_depth': [None,3,5],\n",
    "    'estimator__min_samples_split': [2,4,5,6]\n",
    "}\n",
    "\n",
    "grid_search = GridSearchCV(pipeline, params, n_jobs=-1, verbose=1, cv=5)"
   ]
  },
  {
   "cell_type": "code",
   "execution_count": 68,
   "metadata": {},
   "outputs": [
    {
     "name": "stdout",
     "output_type": "stream",
     "text": [
      "Fitting 5 folds for each of 108 candidates, totalling 540 fits\n"
     ]
    },
    {
     "name": "stderr",
     "output_type": "stream",
     "text": [
      "[Parallel(n_jobs=-1)]: Done  42 tasks      | elapsed:   12.4s\n",
      "[Parallel(n_jobs=-1)]: Done 192 tasks      | elapsed:   28.3s\n",
      "[Parallel(n_jobs=-1)]: Done 442 tasks      | elapsed:  1.2min\n",
      "[Parallel(n_jobs=-1)]: Done 540 out of 540 | elapsed:  1.5min finished\n"
     ]
    },
    {
     "name": "stdout",
     "output_type": "stream",
     "text": [
      "best score 0.773157075882\n",
      "best params {'estimator__max_depth': 3, 'estimator__max_features': 'log2', 'estimator__min_samples_split': 6, 'estimator__n_estimators': 250}\n",
      "test score 0.715015945344\n"
     ]
    }
   ],
   "source": [
    "grid_search.fit(X_train, y_train)\n",
    "print('best score', grid_search.best_score_)\n",
    "print('best params', grid_search.best_params_)\n",
    "print('test score', grid_search.score(X_test, y_test))\n"
   ]
  },
  {
   "cell_type": "markdown",
   "metadata": {},
   "source": [
    "#### Looks like less features made the model worse. I'll use the grid search with Gradient Boost with the full 18 features as my final model and use that model to make predictions.."
   ]
  },
  {
   "cell_type": "code",
   "execution_count": 151,
   "metadata": {
    "collapsed": true
   },
   "outputs": [],
   "source": [
    "# Reset my train and test data using the full 18 features\n",
    "X_train, X_test, y_train, y_test = train_test_split(X, y, random_state=42)"
   ]
  },
  {
   "cell_type": "code",
   "execution_count": 152,
   "metadata": {},
   "outputs": [
    {
     "data": {
      "text/plain": [
       "0.76669505174443109"
      ]
     },
     "execution_count": 152,
     "metadata": {},
     "output_type": "execute_result"
    }
   ],
   "source": [
    "best_model.score(X_test, y_test)"
   ]
  },
  {
   "cell_type": "code",
   "execution_count": 153,
   "metadata": {
    "collapsed": true
   },
   "outputs": [],
   "source": [
    "# Set predictions using the best model (Gradient Boost) to plot against actual y values\n",
    "# I'll plot those at the end\n",
    "pred = best_model.predict(X_test)"
   ]
  },
  {
   "cell_type": "markdown",
   "metadata": {},
   "source": [
    "# Neural Network model"
   ]
  },
  {
   "cell_type": "code",
   "execution_count": 154,
   "metadata": {},
   "outputs": [
    {
     "name": "stdout",
     "output_type": "stream",
     "text": [
      "Train on 826 samples, validate on 276 samples\n",
      "Epoch 1/15\n",
      "826/826 [==============================] - 0s 602us/step - loss: 0.2826 - val_loss: 0.2119\n",
      "Epoch 2/15\n",
      "826/826 [==============================] - 0s 54us/step - loss: 0.1877 - val_loss: 0.1077\n",
      "Epoch 3/15\n",
      "826/826 [==============================] - 0s 48us/step - loss: 0.1013 - val_loss: 0.0578\n",
      "Epoch 4/15\n",
      "826/826 [==============================] - 0s 50us/step - loss: 0.0532 - val_loss: 0.0364\n",
      "Epoch 5/15\n",
      "826/826 [==============================] - 0s 57us/step - loss: 0.0332 - val_loss: 0.0270\n",
      "Epoch 6/15\n",
      "826/826 [==============================] - 0s 55us/step - loss: 0.0247 - val_loss: 0.0219\n",
      "Epoch 7/15\n",
      "826/826 [==============================] - 0s 55us/step - loss: 0.0205 - val_loss: 0.0189\n",
      "Epoch 8/15\n",
      "826/826 [==============================] - 0s 66us/step - loss: 0.0178 - val_loss: 0.0170\n",
      "Epoch 9/15\n",
      "826/826 [==============================] - 0s 53us/step - loss: 0.0159 - val_loss: 0.0154\n",
      "Epoch 10/15\n",
      "826/826 [==============================] - 0s 58us/step - loss: 0.0144 - val_loss: 0.0143\n",
      "Epoch 11/15\n",
      "826/826 [==============================] - 0s 53us/step - loss: 0.0132 - val_loss: 0.0133\n",
      "Epoch 12/15\n",
      "826/826 [==============================] - 0s 53us/step - loss: 0.0123 - val_loss: 0.0124\n",
      "Epoch 13/15\n",
      "826/826 [==============================] - 0s 51us/step - loss: 0.0115 - val_loss: 0.0117\n",
      "Epoch 14/15\n",
      "826/826 [==============================] - 0s 56us/step - loss: 0.0108 - val_loss: 0.0112\n",
      "Epoch 15/15\n",
      "826/826 [==============================] - 0s 56us/step - loss: 0.0102 - val_loss: 0.0107\n"
     ]
    },
    {
     "data": {
      "text/plain": [
       "<keras.callbacks.History at 0x15161c25a90>"
      ]
     },
     "execution_count": 154,
     "metadata": {},
     "output_type": "execute_result"
    }
   ],
   "source": [
    "# Let's try a Neural Network model just for fun\n",
    "ss = StandardScaler()\n",
    "X_train = ss.fit_transform(X_train)\n",
    "X_test = ss.transform(X_test)\n",
    "\n",
    "model = Sequential()\n",
    "\n",
    "model.add(Dense(X_train.shape[1], input_dim=X_train.shape[1], activation='relu'))\n",
    "\n",
    "# model.add(Dense(9, activation='relu'))\n",
    "model.add(Dense(6, activation='relu'))\n",
    "model.add(Dense(3, activation='relu'))\n",
    "\n",
    "model.add(Dense(1))\n",
    "\n",
    "model.compile(loss='mean_squared_error', optimizer='adam')\n",
    "\n",
    "model.fit(X_train, y_train, validation_data=(X_test, y_test), epochs=15)"
   ]
  },
  {
   "cell_type": "code",
   "execution_count": 155,
   "metadata": {},
   "outputs": [
    {
     "name": "stdout",
     "output_type": "stream",
     "text": [
      "Gradient Boost MSE -0.00690641177897\n"
     ]
    }
   ],
   "source": [
    "print('Gradient Boost MSE', gbr_test_mse_score)"
   ]
  },
  {
   "cell_type": "markdown",
   "metadata": {},
   "source": [
    "##### So the gradient boost Mean Squared Error of 0.0069 is slightly better than the Neural Network MSE of 0.0107"
   ]
  },
  {
   "cell_type": "code",
   "execution_count": 156,
   "metadata": {
    "collapsed": true
   },
   "outputs": [],
   "source": [
    "pred_nn = model.predict(X_test)"
   ]
  },
  {
   "cell_type": "code",
   "execution_count": 157,
   "metadata": {},
   "outputs": [
    {
     "data": {
      "text/plain": [
       "0.52847588"
      ]
     },
     "execution_count": 157,
     "metadata": {},
     "output_type": "execute_result"
    }
   ],
   "source": [
    "pred_nn.mean()"
   ]
  },
  {
   "cell_type": "code",
   "execution_count": 158,
   "metadata": {},
   "outputs": [
    {
     "data": {
      "text/plain": [
       "0.5335084677284414"
      ]
     },
     "execution_count": 158,
     "metadata": {},
     "output_type": "execute_result"
    }
   ],
   "source": [
    "pred.mean()"
   ]
  },
  {
   "cell_type": "code",
   "execution_count": 159,
   "metadata": {},
   "outputs": [
    {
     "data": {
      "image/png": "[encoded data removed]",
      "text/plain": [
       "<matplotlib.figure.Figure at 0x15161af8a58>"
      ]
     },
     "metadata": {},
     "output_type": "display_data"
    }
   ],
   "source": [
    "fig, ax = plt.subplots()\n",
    "ax.scatter(y_test, pred, edgecolors=(0, 0, 0))\n",
    "ax.plot([y_test.min(), y_test.max()], [y_test.min(), y_test.max()], 'k--', lw=4)\n",
    "ax.set_title('Actual vs. Predicted, Gradient Boost Model')\n",
    "ax.set_xlabel('Actual Completion Rate')\n",
    "ax.set_ylabel('Predicted Completion Rate')\n",
    "plt.show()"
   ]
  },
  {
   "cell_type": "markdown",
   "metadata": {},
   "source": [
    "##### Looks like our predictions for the Gradient Boosting model do fairly well. It seems they do much better for the higher completion rates, struggle a bit in the middle to low completion rates."
   ]
  },
  {
   "cell_type": "code",
   "execution_count": 160,
   "metadata": {},
   "outputs": [
    {
     "data": {
      "image/png": "[encoded data removed]",
      "text/plain": [
       "<matplotlib.figure.Figure at 0x15161858da0>"
      ]
     },
     "metadata": {},
     "output_type": "display_data"
    }
   ],
   "source": [
    "fig, ax = plt.subplots()\n",
    "ax.scatter(y_test, pred_nn, edgecolors=(0, 0, 0))\n",
    "ax.plot([y_test.min(), y_test.max()], [y_test.min(), y_test.max()], 'k--', lw=4)\n",
    "ax.set_title('Actual vs. Predicted, Neural Network Model')\n",
    "ax.set_xlabel('Actual Completion Rate')\n",
    "ax.set_ylabel('Predicted Completion Rate')\n",
    "plt.show()"
   ]
  },
  {
   "cell_type": "markdown",
   "metadata": {},
   "source": [
    "##### Looks like our neural network predictions did fairly decent as well, although it appears the predictions tended not stray from the mean too much."
   ]
  },
  {
   "cell_type": "code",
   "execution_count": null,
   "metadata": {
    "collapsed": true
   },
   "outputs": [],
   "source": []
  }
 ],
 "metadata": {
  "kernelspec": {
   "display_name": "Python 3",
   "language": "python",
   "name": "python3"
  },
  "language_info": {
   "codemirror_mode": {
    "name": "ipython",
    "version": 3
   },
   "file_extension": ".py",
   "mimetype": "text/x-python",
   "name": "python",
   "nbconvert_exporter": "python",
   "pygments_lexer": "ipython3",
   "version": "3.6.3"
  }
 },
 "nbformat": 4,
 "nbformat_minor": 2
}
